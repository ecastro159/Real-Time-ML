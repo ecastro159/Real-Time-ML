{
  "cells": [
    {
      "cell_type": "code",
      "execution_count": null,
      "id": "c313aebc",
      "metadata": {
        "id": "c313aebc"
      },
      "outputs": [],
      "source": [
        "import torch\n",
        "import numpy as np\n",
        "import pandas as pd\n",
        "from matplotlib import pyplot as plt"
      ]
    },
    {
      "cell_type": "code",
      "source": [
        "from google.colab import drive\n",
        "drive.mount('/content/drive')"
      ],
      "metadata": {
        "colab": {
          "base_uri": "https://localhost:8080/"
        },
        "id": "Ox-2nE_GOAtm",
        "outputId": "c5714868-a59a-4ee9-f783-903a6a0d56e0"
      },
      "id": "Ox-2nE_GOAtm",
      "execution_count": null,
      "outputs": [
        {
          "output_type": "stream",
          "name": "stdout",
          "text": [
            "Drive already mounted at /content/drive; to attempt to forcibly remount, call drive.mount(\"/content/drive\", force_remount=True).\n"
          ]
        }
      ]
    },
    {
      "cell_type": "markdown",
      "source": [
        "**1) Printing Table**"
      ],
      "metadata": {
        "id": "lTeFxXwJSvOh"
      },
      "id": "lTeFxXwJSvOh"
    },
    {
      "cell_type": "code",
      "execution_count": null,
      "id": "34740d51",
      "metadata": {
        "colab": {
          "base_uri": "https://localhost:8080/",
          "height": 250
        },
        "id": "34740d51",
        "outputId": "1477ee29-f96c-412e-d100-34b846ef6719"
      },
      "outputs": [
        {
          "output_type": "execute_result",
          "data": {
            "text/html": [
              "\n",
              "  <div id=\"df-86cf3cfc-743c-49e2-9dab-547575838020\">\n",
              "    <div class=\"colab-df-container\">\n",
              "      <div>\n",
              "<style scoped>\n",
              "    .dataframe tbody tr th:only-of-type {\n",
              "        vertical-align: middle;\n",
              "    }\n",
              "\n",
              "    .dataframe tbody tr th {\n",
              "        vertical-align: top;\n",
              "    }\n",
              "\n",
              "    .dataframe thead th {\n",
              "        text-align: right;\n",
              "    }\n",
              "</style>\n",
              "<table border=\"1\" class=\"dataframe\">\n",
              "  <thead>\n",
              "    <tr style=\"text-align: right;\">\n",
              "      <th></th>\n",
              "      <th>price</th>\n",
              "      <th>area</th>\n",
              "      <th>bedrooms</th>\n",
              "      <th>bathrooms</th>\n",
              "      <th>stories</th>\n",
              "      <th>mainroad</th>\n",
              "      <th>guestroom</th>\n",
              "      <th>basement</th>\n",
              "      <th>hotwaterheating</th>\n",
              "      <th>airconditioning</th>\n",
              "      <th>parking</th>\n",
              "      <th>prefarea</th>\n",
              "      <th>furnishingstatus</th>\n",
              "    </tr>\n",
              "  </thead>\n",
              "  <tbody>\n",
              "    <tr>\n",
              "      <th>0</th>\n",
              "      <td>13300000</td>\n",
              "      <td>7420</td>\n",
              "      <td>4</td>\n",
              "      <td>2</td>\n",
              "      <td>3</td>\n",
              "      <td>yes</td>\n",
              "      <td>no</td>\n",
              "      <td>no</td>\n",
              "      <td>no</td>\n",
              "      <td>yes</td>\n",
              "      <td>2</td>\n",
              "      <td>yes</td>\n",
              "      <td>furnished</td>\n",
              "    </tr>\n",
              "    <tr>\n",
              "      <th>1</th>\n",
              "      <td>12250000</td>\n",
              "      <td>8960</td>\n",
              "      <td>4</td>\n",
              "      <td>4</td>\n",
              "      <td>4</td>\n",
              "      <td>yes</td>\n",
              "      <td>no</td>\n",
              "      <td>no</td>\n",
              "      <td>no</td>\n",
              "      <td>yes</td>\n",
              "      <td>3</td>\n",
              "      <td>no</td>\n",
              "      <td>furnished</td>\n",
              "    </tr>\n",
              "    <tr>\n",
              "      <th>2</th>\n",
              "      <td>12250000</td>\n",
              "      <td>9960</td>\n",
              "      <td>3</td>\n",
              "      <td>2</td>\n",
              "      <td>2</td>\n",
              "      <td>yes</td>\n",
              "      <td>no</td>\n",
              "      <td>yes</td>\n",
              "      <td>no</td>\n",
              "      <td>no</td>\n",
              "      <td>2</td>\n",
              "      <td>yes</td>\n",
              "      <td>semi-furnished</td>\n",
              "    </tr>\n",
              "    <tr>\n",
              "      <th>3</th>\n",
              "      <td>12215000</td>\n",
              "      <td>7500</td>\n",
              "      <td>4</td>\n",
              "      <td>2</td>\n",
              "      <td>2</td>\n",
              "      <td>yes</td>\n",
              "      <td>no</td>\n",
              "      <td>yes</td>\n",
              "      <td>no</td>\n",
              "      <td>yes</td>\n",
              "      <td>3</td>\n",
              "      <td>yes</td>\n",
              "      <td>furnished</td>\n",
              "    </tr>\n",
              "    <tr>\n",
              "      <th>4</th>\n",
              "      <td>11410000</td>\n",
              "      <td>7420</td>\n",
              "      <td>4</td>\n",
              "      <td>1</td>\n",
              "      <td>2</td>\n",
              "      <td>yes</td>\n",
              "      <td>yes</td>\n",
              "      <td>yes</td>\n",
              "      <td>no</td>\n",
              "      <td>yes</td>\n",
              "      <td>2</td>\n",
              "      <td>no</td>\n",
              "      <td>furnished</td>\n",
              "    </tr>\n",
              "  </tbody>\n",
              "</table>\n",
              "</div>\n",
              "      <button class=\"colab-df-convert\" onclick=\"convertToInteractive('df-86cf3cfc-743c-49e2-9dab-547575838020')\"\n",
              "              title=\"Convert this dataframe to an interactive table.\"\n",
              "              style=\"display:none;\">\n",
              "        \n",
              "  <svg xmlns=\"http://www.w3.org/2000/svg\" height=\"24px\"viewBox=\"0 0 24 24\"\n",
              "       width=\"24px\">\n",
              "    <path d=\"M0 0h24v24H0V0z\" fill=\"none\"/>\n",
              "    <path d=\"M18.56 5.44l.94 2.06.94-2.06 2.06-.94-2.06-.94-.94-2.06-.94 2.06-2.06.94zm-11 1L8.5 8.5l.94-2.06 2.06-.94-2.06-.94L8.5 2.5l-.94 2.06-2.06.94zm10 10l.94 2.06.94-2.06 2.06-.94-2.06-.94-.94-2.06-.94 2.06-2.06.94z\"/><path d=\"M17.41 7.96l-1.37-1.37c-.4-.4-.92-.59-1.43-.59-.52 0-1.04.2-1.43.59L10.3 9.45l-7.72 7.72c-.78.78-.78 2.05 0 2.83L4 21.41c.39.39.9.59 1.41.59.51 0 1.02-.2 1.41-.59l7.78-7.78 2.81-2.81c.8-.78.8-2.07 0-2.86zM5.41 20L4 18.59l7.72-7.72 1.47 1.35L5.41 20z\"/>\n",
              "  </svg>\n",
              "      </button>\n",
              "      \n",
              "  <style>\n",
              "    .colab-df-container {\n",
              "      display:flex;\n",
              "      flex-wrap:wrap;\n",
              "      gap: 12px;\n",
              "    }\n",
              "\n",
              "    .colab-df-convert {\n",
              "      background-color: #E8F0FE;\n",
              "      border: none;\n",
              "      border-radius: 50%;\n",
              "      cursor: pointer;\n",
              "      display: none;\n",
              "      fill: #1967D2;\n",
              "      height: 32px;\n",
              "      padding: 0 0 0 0;\n",
              "      width: 32px;\n",
              "    }\n",
              "\n",
              "    .colab-df-convert:hover {\n",
              "      background-color: #E2EBFA;\n",
              "      box-shadow: 0px 1px 2px rgba(60, 64, 67, 0.3), 0px 1px 3px 1px rgba(60, 64, 67, 0.15);\n",
              "      fill: #174EA6;\n",
              "    }\n",
              "\n",
              "    [theme=dark] .colab-df-convert {\n",
              "      background-color: #3B4455;\n",
              "      fill: #D2E3FC;\n",
              "    }\n",
              "\n",
              "    [theme=dark] .colab-df-convert:hover {\n",
              "      background-color: #434B5C;\n",
              "      box-shadow: 0px 1px 3px 1px rgba(0, 0, 0, 0.15);\n",
              "      filter: drop-shadow(0px 1px 2px rgba(0, 0, 0, 0.3));\n",
              "      fill: #FFFFFF;\n",
              "    }\n",
              "  </style>\n",
              "\n",
              "      <script>\n",
              "        const buttonEl =\n",
              "          document.querySelector('#df-86cf3cfc-743c-49e2-9dab-547575838020 button.colab-df-convert');\n",
              "        buttonEl.style.display =\n",
              "          google.colab.kernel.accessAllowed ? 'block' : 'none';\n",
              "\n",
              "        async function convertToInteractive(key) {\n",
              "          const element = document.querySelector('#df-86cf3cfc-743c-49e2-9dab-547575838020');\n",
              "          const dataTable =\n",
              "            await google.colab.kernel.invokeFunction('convertToInteractive',\n",
              "                                                     [key], {});\n",
              "          if (!dataTable) return;\n",
              "\n",
              "          const docLinkHtml = 'Like what you see? Visit the ' +\n",
              "            '<a target=\"_blank\" href=https://colab.research.google.com/notebooks/data_table.ipynb>data table notebook</a>'\n",
              "            + ' to learn more about interactive tables.';\n",
              "          element.innerHTML = '';\n",
              "          dataTable['output_type'] = 'display_data';\n",
              "          await google.colab.output.renderOutput(dataTable, element);\n",
              "          const docLink = document.createElement('div');\n",
              "          docLink.innerHTML = docLinkHtml;\n",
              "          element.appendChild(docLink);\n",
              "        }\n",
              "      </script>\n",
              "    </div>\n",
              "  </div>\n",
              "  "
            ],
            "text/plain": [
              "      price  area  bedrooms  ...  parking  prefarea furnishingstatus\n",
              "0  13300000  7420         4  ...        2       yes        furnished\n",
              "1  12250000  8960         4  ...        3        no        furnished\n",
              "2  12250000  9960         3  ...        2       yes   semi-furnished\n",
              "3  12215000  7500         4  ...        3       yes        furnished\n",
              "4  11410000  7420         4  ...        2        no        furnished\n",
              "\n",
              "[5 rows x 13 columns]"
            ]
          },
          "metadata": {},
          "execution_count": 70
        }
      ],
      "source": [
        "housing = pd.DataFrame(pd.read_csv(\"/content/drive/MyDrive/Colab Notebooks/Howework1/Housing.csv\"))\n",
        "housing.head()"
      ]
    },
    {
      "cell_type": "markdown",
      "source": [
        "**2) Selecting Varables**"
      ],
      "metadata": {
        "id": "8XPNYbAUUxwb"
      },
      "id": "8XPNYbAUUxwb"
    },
    {
      "cell_type": "code",
      "execution_count": null,
      "id": "c6b9b4a9",
      "metadata": {
        "colab": {
          "base_uri": "https://localhost:8080/",
          "height": 206
        },
        "id": "c6b9b4a9",
        "outputId": "b0120fce-9e1c-4763-b879-0ac2d3f994da"
      },
      "outputs": [
        {
          "output_type": "execute_result",
          "data": {
            "text/html": [
              "\n",
              "  <div id=\"df-bdff50bd-b7a9-4f83-8aaf-3f69f264f422\">\n",
              "    <div class=\"colab-df-container\">\n",
              "      <div>\n",
              "<style scoped>\n",
              "    .dataframe tbody tr th:only-of-type {\n",
              "        vertical-align: middle;\n",
              "    }\n",
              "\n",
              "    .dataframe tbody tr th {\n",
              "        vertical-align: top;\n",
              "    }\n",
              "\n",
              "    .dataframe thead th {\n",
              "        text-align: right;\n",
              "    }\n",
              "</style>\n",
              "<table border=\"1\" class=\"dataframe\">\n",
              "  <thead>\n",
              "    <tr style=\"text-align: right;\">\n",
              "      <th></th>\n",
              "      <th>area</th>\n",
              "      <th>bedrooms</th>\n",
              "      <th>bathrooms</th>\n",
              "      <th>stories</th>\n",
              "      <th>parking</th>\n",
              "      <th>price</th>\n",
              "    </tr>\n",
              "  </thead>\n",
              "  <tbody>\n",
              "    <tr>\n",
              "      <th>0</th>\n",
              "      <td>7420</td>\n",
              "      <td>4</td>\n",
              "      <td>2</td>\n",
              "      <td>3</td>\n",
              "      <td>2</td>\n",
              "      <td>13300000</td>\n",
              "    </tr>\n",
              "    <tr>\n",
              "      <th>1</th>\n",
              "      <td>8960</td>\n",
              "      <td>4</td>\n",
              "      <td>4</td>\n",
              "      <td>4</td>\n",
              "      <td>3</td>\n",
              "      <td>12250000</td>\n",
              "    </tr>\n",
              "    <tr>\n",
              "      <th>2</th>\n",
              "      <td>9960</td>\n",
              "      <td>3</td>\n",
              "      <td>2</td>\n",
              "      <td>2</td>\n",
              "      <td>2</td>\n",
              "      <td>12250000</td>\n",
              "    </tr>\n",
              "    <tr>\n",
              "      <th>3</th>\n",
              "      <td>7500</td>\n",
              "      <td>4</td>\n",
              "      <td>2</td>\n",
              "      <td>2</td>\n",
              "      <td>3</td>\n",
              "      <td>12215000</td>\n",
              "    </tr>\n",
              "    <tr>\n",
              "      <th>4</th>\n",
              "      <td>7420</td>\n",
              "      <td>4</td>\n",
              "      <td>1</td>\n",
              "      <td>2</td>\n",
              "      <td>2</td>\n",
              "      <td>11410000</td>\n",
              "    </tr>\n",
              "  </tbody>\n",
              "</table>\n",
              "</div>\n",
              "      <button class=\"colab-df-convert\" onclick=\"convertToInteractive('df-bdff50bd-b7a9-4f83-8aaf-3f69f264f422')\"\n",
              "              title=\"Convert this dataframe to an interactive table.\"\n",
              "              style=\"display:none;\">\n",
              "        \n",
              "  <svg xmlns=\"http://www.w3.org/2000/svg\" height=\"24px\"viewBox=\"0 0 24 24\"\n",
              "       width=\"24px\">\n",
              "    <path d=\"M0 0h24v24H0V0z\" fill=\"none\"/>\n",
              "    <path d=\"M18.56 5.44l.94 2.06.94-2.06 2.06-.94-2.06-.94-.94-2.06-.94 2.06-2.06.94zm-11 1L8.5 8.5l.94-2.06 2.06-.94-2.06-.94L8.5 2.5l-.94 2.06-2.06.94zm10 10l.94 2.06.94-2.06 2.06-.94-2.06-.94-.94-2.06-.94 2.06-2.06.94z\"/><path d=\"M17.41 7.96l-1.37-1.37c-.4-.4-.92-.59-1.43-.59-.52 0-1.04.2-1.43.59L10.3 9.45l-7.72 7.72c-.78.78-.78 2.05 0 2.83L4 21.41c.39.39.9.59 1.41.59.51 0 1.02-.2 1.41-.59l7.78-7.78 2.81-2.81c.8-.78.8-2.07 0-2.86zM5.41 20L4 18.59l7.72-7.72 1.47 1.35L5.41 20z\"/>\n",
              "  </svg>\n",
              "      </button>\n",
              "      \n",
              "  <style>\n",
              "    .colab-df-container {\n",
              "      display:flex;\n",
              "      flex-wrap:wrap;\n",
              "      gap: 12px;\n",
              "    }\n",
              "\n",
              "    .colab-df-convert {\n",
              "      background-color: #E8F0FE;\n",
              "      border: none;\n",
              "      border-radius: 50%;\n",
              "      cursor: pointer;\n",
              "      display: none;\n",
              "      fill: #1967D2;\n",
              "      height: 32px;\n",
              "      padding: 0 0 0 0;\n",
              "      width: 32px;\n",
              "    }\n",
              "\n",
              "    .colab-df-convert:hover {\n",
              "      background-color: #E2EBFA;\n",
              "      box-shadow: 0px 1px 2px rgba(60, 64, 67, 0.3), 0px 1px 3px 1px rgba(60, 64, 67, 0.15);\n",
              "      fill: #174EA6;\n",
              "    }\n",
              "\n",
              "    [theme=dark] .colab-df-convert {\n",
              "      background-color: #3B4455;\n",
              "      fill: #D2E3FC;\n",
              "    }\n",
              "\n",
              "    [theme=dark] .colab-df-convert:hover {\n",
              "      background-color: #434B5C;\n",
              "      box-shadow: 0px 1px 3px 1px rgba(0, 0, 0, 0.15);\n",
              "      filter: drop-shadow(0px 1px 2px rgba(0, 0, 0, 0.3));\n",
              "      fill: #FFFFFF;\n",
              "    }\n",
              "  </style>\n",
              "\n",
              "      <script>\n",
              "        const buttonEl =\n",
              "          document.querySelector('#df-bdff50bd-b7a9-4f83-8aaf-3f69f264f422 button.colab-df-convert');\n",
              "        buttonEl.style.display =\n",
              "          google.colab.kernel.accessAllowed ? 'block' : 'none';\n",
              "\n",
              "        async function convertToInteractive(key) {\n",
              "          const element = document.querySelector('#df-bdff50bd-b7a9-4f83-8aaf-3f69f264f422');\n",
              "          const dataTable =\n",
              "            await google.colab.kernel.invokeFunction('convertToInteractive',\n",
              "                                                     [key], {});\n",
              "          if (!dataTable) return;\n",
              "\n",
              "          const docLinkHtml = 'Like what you see? Visit the ' +\n",
              "            '<a target=\"_blank\" href=https://colab.research.google.com/notebooks/data_table.ipynb>data table notebook</a>'\n",
              "            + ' to learn more about interactive tables.';\n",
              "          element.innerHTML = '';\n",
              "          dataTable['output_type'] = 'display_data';\n",
              "          await google.colab.output.renderOutput(dataTable, element);\n",
              "          const docLink = document.createElement('div');\n",
              "          docLink.innerHTML = docLinkHtml;\n",
              "          element.appendChild(docLink);\n",
              "        }\n",
              "      </script>\n",
              "    </div>\n",
              "  </div>\n",
              "  "
            ],
            "text/plain": [
              "   area  bedrooms  bathrooms  stories  parking     price\n",
              "0  7420         4          2        3        2  13300000\n",
              "1  8960         4          4        4        3  12250000\n",
              "2  9960         3          2        2        2  12250000\n",
              "3  7500         4          2        2        3  12215000\n",
              "4  7420         4          1        2        2  11410000"
            ]
          },
          "metadata": {},
          "execution_count": 71
        }
      ],
      "source": [
        "Features = ['area', 'bedrooms', 'bathrooms', 'stories', 'parking', 'price'] \n",
        "HousingFeat = housing[Features] \n",
        "HousingFeat.head()"
      ]
    },
    {
      "cell_type": "markdown",
      "source": [
        "**Constructing tensor with Data**"
      ],
      "metadata": {
        "id": "Z8TJRcuneTa6"
      },
      "id": "Z8TJRcuneTa6"
    },
    {
      "cell_type": "markdown",
      "source": [
        "1.   Selecting Features"
      ],
      "metadata": {
        "id": "BP8nlQ3deuiB"
      },
      "id": "BP8nlQ3deuiB"
    },
    {
      "cell_type": "code",
      "execution_count": null,
      "id": "be83ab2c",
      "metadata": {
        "id": "be83ab2c"
      },
      "outputs": [],
      "source": [
        "t_area = torch.tensor(HousingFeat['area'])\n",
        "t_bedrooms = torch.tensor(HousingFeat['bedrooms'])\n",
        "t_bathrooms = torch.tensor(HousingFeat['bathrooms'])\n",
        "t_stories = torch.tensor(HousingFeat['stories'])\n",
        "t_parking = torch.tensor(HousingFeat['parking'])\n",
        "t_price = torch.tensor(HousingFeat['price'])"
      ]
    },
    {
      "cell_type": "markdown",
      "source": [
        "2.   Normalizing Data"
      ],
      "metadata": {
        "id": "lWkKy410e71Y"
      },
      "id": "lWkKy410e71Y"
    },
    {
      "cell_type": "code",
      "source": [
        "t_areaN = t_area / max(HousingFeat['area'])\n",
        "t_bedroomsN = t_bedrooms / max(HousingFeat['bedrooms'])\n",
        "t_bathroomsN = t_bathrooms / max(HousingFeat['bathrooms'])\n",
        "t_storiesN = t_stories / max(HousingFeat['stories'])\n",
        "t_parkingN = t_parking / max(HousingFeat['parking'])"
      ],
      "metadata": {
        "id": "pZ2NT4J-fQHm"
      },
      "id": "pZ2NT4J-fQHm",
      "execution_count": null,
      "outputs": []
    },
    {
      "cell_type": "markdown",
      "source": [
        "**Defining Learning Model**"
      ],
      "metadata": {
        "id": "aQHfT2t7fW6G"
      },
      "id": "aQHfT2t7fW6G"
    },
    {
      "cell_type": "code",
      "source": [
        "def model(t_area, t_bedrooms, t_bathrooms, t_stories, t_parking, w1, w2, w3, w4, w5, b):\n",
        "  # Implementing U = W5*X5 + W4*X4 + W3*X3 + W2*X2 + W1*X1 + B\n",
        "    return w5*t_parking + w4*t_stories + w3*t_bathrooms + w2*t_bedrooms + w1*t_area + b"
      ],
      "metadata": {
        "id": "eLa2oE2YfmAj"
      },
      "id": "eLa2oE2YfmAj",
      "execution_count": null,
      "outputs": []
    },
    {
      "cell_type": "markdown",
      "source": [
        "**Calculating the loss Function**"
      ],
      "metadata": {
        "id": "qLUfgIBVf5O9"
      },
      "id": "qLUfgIBVf5O9"
    },
    {
      "cell_type": "code",
      "execution_count": null,
      "id": "665946a3",
      "metadata": {
        "id": "665946a3"
      },
      "outputs": [],
      "source": [
        "def loss_fn(t_p, t_price):\n",
        "    squared_diffs = (t_p - t_price)**2\n",
        "    return squared_diffs.mean()"
      ]
    },
    {
      "cell_type": "markdown",
      "source": [
        "**Defining Training Loop**"
      ],
      "metadata": {
        "id": "Fsr01p52g53Q"
      },
      "id": "Fsr01p52g53Q"
    },
    {
      "cell_type": "code",
      "execution_count": null,
      "id": "387bf4d7",
      "metadata": {
        "id": "387bf4d7"
      },
      "outputs": [],
      "source": [
        "def training_loop(n_epochs, learning_rate, params, t_area, t_bedrooms, t_bathrooms, t_stories, t_parking, t_price):\n",
        "    for epoch in range(1, n_epochs + 1):\n",
        "        if params.grad is not None:  \n",
        "            params.grad.zero_()\n",
        "        \n",
        "        t_p = model(t_area, t_bedrooms, t_bathrooms, t_stories, t_parking, *params) \n",
        "        loss = loss_fn(t_p, t_price)\n",
        "        loss.backward()\n",
        "        \n",
        "        with torch.no_grad(): \n",
        "            params -= learning_rate * params.grad\n",
        "\n",
        "        if epoch % 500 == 0:\n",
        "            print('Epoch %d, Loss %f' % (epoch, float(loss)))\n",
        "            \n",
        "    return params"
      ]
    },
    {
      "cell_type": "markdown",
      "source": [
        "**Learning Rate = 0.1**"
      ],
      "metadata": {
        "id": "uQ-8ak7piv12"
      },
      "id": "uQ-8ak7piv12"
    },
    {
      "cell_type": "code",
      "execution_count": null,
      "id": "fe63d2f2",
      "metadata": {
        "colab": {
          "base_uri": "https://localhost:8080/"
        },
        "id": "fe63d2f2",
        "outputId": "049f97c3-6a10-4c1b-d943-0bc449c656c2"
      },
      "outputs": [
        {
          "output_type": "stream",
          "name": "stdout",
          "text": [
            "Epoch 500, Loss 1562038501376.000000\n",
            "Epoch 1000, Loss 1533011427328.000000\n",
            "Epoch 1500, Loss 1531161870336.000000\n",
            "Epoch 2000, Loss 1531023589376.000000\n",
            "Epoch 2500, Loss 1531010482176.000000\n",
            "Epoch 3000, Loss 1531008778240.000000\n",
            "Epoch 3500, Loss 1531008516096.000000\n",
            "Epoch 4000, Loss 1531008516096.000000\n",
            "Epoch 4500, Loss 1531008516096.000000\n",
            "Epoch 5000, Loss 1531008516096.000000\n"
          ]
        }
      ],
      "source": [
        "params = training_loop(\n",
        "    n_epochs = 5000, \n",
        "    learning_rate = 0.1, \n",
        "    params = torch.tensor([1.0,1.0,1.0,1.0,1.0,0.0], requires_grad=True), # <1> \n",
        "    t_area = t_areaN,\n",
        "    t_bedrooms = t_bedroomsN,\n",
        "    t_bathrooms = t_bathroomsN,\n",
        "    t_stories = t_storiesN,\n",
        "    t_parking = t_parkingN,\n",
        "    t_price = t_price)"
      ]
    },
    {
      "cell_type": "markdown",
      "source": [
        "**Learning Rate = 0.01**"
      ],
      "metadata": {
        "id": "rWgZRWqMi6Ay"
      },
      "id": "rWgZRWqMi6Ay"
    },
    {
      "cell_type": "code",
      "source": [
        "params = training_loop(\n",
        "    n_epochs = 5000, \n",
        "    learning_rate = 1e-2, \n",
        "    params = torch.tensor([1.0,1.0,1.0,1.0,1.0,0.0], requires_grad=True), # <1> \n",
        "    t_area = t_areaN,\n",
        "    t_bedrooms = t_bedroomsN,\n",
        "    t_bathrooms = t_bathroomsN,\n",
        "    t_stories = t_storiesN,\n",
        "    t_parking = t_parkingN,\n",
        "    t_price = t_price)"
      ],
      "metadata": {
        "colab": {
          "base_uri": "https://localhost:8080/"
        },
        "id": "AH2y8-YViiZI",
        "outputId": "9ac92fd9-d182-45af-9832-4312951097e5"
      },
      "id": "AH2y8-YViiZI",
      "execution_count": null,
      "outputs": [
        {
          "output_type": "stream",
          "name": "stdout",
          "text": [
            "Epoch 500, Loss 2024805761024.000000\n",
            "Epoch 1000, Loss 1863258734592.000000\n",
            "Epoch 1500, Loss 1768051179520.000000\n",
            "Epoch 2000, Loss 1704594898944.000000\n",
            "Epoch 2500, Loss 1659788853248.000000\n",
            "Epoch 3000, Loss 1627244199936.000000\n",
            "Epoch 3500, Loss 1603242295296.000000\n",
            "Epoch 4000, Loss 1585383211008.000000\n",
            "Epoch 4500, Loss 1572023042048.000000\n",
            "Epoch 5000, Loss 1561993281536.000000\n"
          ]
        }
      ]
    },
    {
      "cell_type": "markdown",
      "source": [
        "**Learning Rate = 0.001**"
      ],
      "metadata": {
        "id": "8X9W9Dh7i-7t"
      },
      "id": "8X9W9Dh7i-7t"
    },
    {
      "cell_type": "code",
      "source": [
        "params = training_loop(\n",
        "    n_epochs = 5000, \n",
        "    learning_rate = 1e-3, \n",
        "    params = torch.tensor([1.0,1.0,1.0,1.0,1.0,0.0], requires_grad=True), # <1> \n",
        "    t_area = t_areaN,\n",
        "    t_bedrooms = t_bedroomsN,\n",
        "    t_bathrooms = t_bathroomsN,\n",
        "    t_stories = t_storiesN,\n",
        "    t_parking = t_parkingN,\n",
        "    t_price = t_price)"
      ],
      "metadata": {
        "colab": {
          "base_uri": "https://localhost:8080/"
        },
        "id": "G4cAZPkZii3-",
        "outputId": "a7459af7-b1ba-4c47-ba31-630328689a34"
      },
      "id": "G4cAZPkZii3-",
      "execution_count": null,
      "outputs": [
        {
          "output_type": "stream",
          "name": "stdout",
          "text": [
            "Epoch 500, Loss 3072061341696.000000\n",
            "Epoch 1000, Loss 2296906776576.000000\n",
            "Epoch 1500, Loss 2232370855936.000000\n",
            "Epoch 2000, Loss 2193781817344.000000\n",
            "Epoch 2500, Loss 2159230582784.000000\n",
            "Epoch 3000, Loss 2127642755072.000000\n",
            "Epoch 3500, Loss 2098654216192.000000\n",
            "Epoch 4000, Loss 2071965073408.000000\n",
            "Epoch 4500, Loss 2047316459520.000000\n",
            "Epoch 5000, Loss 2024483717120.000000\n"
          ]
        }
      ]
    },
    {
      "cell_type": "markdown",
      "source": [
        "**Learning Rate = 0.0001**"
      ],
      "metadata": {
        "id": "ButQSY22jGny"
      },
      "id": "ButQSY22jGny"
    },
    {
      "cell_type": "code",
      "source": [
        "params = training_loop(\n",
        "    n_epochs = 5000, \n",
        "    learning_rate = 1e-4, \n",
        "    params = torch.tensor([1.0,1.0,1.0,1.0,1.0,0.0], requires_grad=True), # <1> \n",
        "    t_area = t_areaN,\n",
        "    t_bedrooms = t_bedroomsN,\n",
        "    t_bathrooms = t_bathroomsN,\n",
        "    t_stories = t_storiesN,\n",
        "    t_parking = t_parkingN,\n",
        "    t_price = t_price)"
      ],
      "metadata": {
        "colab": {
          "base_uri": "https://localhost:8080/"
        },
        "id": "Pc_v01QuijO_",
        "outputId": "6ecbf341-cca0-4581-fb6a-41c5b9206af9"
      },
      "id": "Pc_v01QuijO_",
      "execution_count": null,
      "outputs": [
        {
          "output_type": "stream",
          "name": "stdout",
          "text": [
            "Epoch 500, Loss 19251110871040.000000\n",
            "Epoch 1000, Loss 14310294159360.000000\n",
            "Epoch 1500, Loss 10812095725568.000000\n",
            "Epoch 2000, Loss 8334880538624.000000\n",
            "Epoch 2500, Loss 6580248510464.000000\n",
            "Epoch 3000, Loss 5337011716096.000000\n",
            "Epoch 3500, Loss 4455729725440.000000\n",
            "Epoch 4000, Loss 3830616424448.000000\n",
            "Epoch 4500, Loss 3386812137472.000000\n",
            "Epoch 5000, Loss 3071338610688.000000\n"
          ]
        }
      ]
    }
  ],
  "metadata": {
    "kernelspec": {
      "display_name": "Python 3 (ipykernel)",
      "language": "python",
      "name": "python3"
    },
    "language_info": {
      "codemirror_mode": {
        "name": "ipython",
        "version": 3
      },
      "file_extension": ".py",
      "mimetype": "text/x-python",
      "name": "python",
      "nbconvert_exporter": "python",
      "pygments_lexer": "ipython3",
      "version": "3.9.7"
    },
    "colab": {
      "name": "Hw1P3.ipynb",
      "provenance": [],
      "collapsed_sections": []
    }
  },
  "nbformat": 4,
  "nbformat_minor": 5
}